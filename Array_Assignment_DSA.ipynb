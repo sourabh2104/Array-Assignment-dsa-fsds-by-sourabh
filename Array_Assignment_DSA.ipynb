{
 "cells": [
  {
   "cell_type": "code",
   "execution_count": 1,
   "id": "c9be0628-7764-4c8c-902e-c84f95fd3c97",
   "metadata": {},
   "outputs": [],
   "source": [
    "# ARRAY ASSIGNMENT DSA-!!!"
   ]
  },
  {
   "cell_type": "code",
   "execution_count": 3,
   "id": "2526571a-63d8-4240-b021-936251cdd81a",
   "metadata": {},
   "outputs": [
    {
     "name": "stdout",
     "output_type": "stream",
     "text": [
      "True\n"
     ]
    }
   ],
   "source": [
    "# 1. Given an array, check if it contains any duplicates or not.\n",
    "# arr = [1, 2, 4, 2, 5, 9]\n",
    "# Output = True\n",
    "\n",
    "\n",
    "# Define the input array\n",
    "arr = [1, 2, 4, 2, 5, 9]\n",
    "\n",
    "# Use set() to remove duplicates and compare the length with the original array\n",
    "# If the length is different, there are duplicates in the array\n",
    "output = len(arr) != len(set(arr))\n",
    "\n",
    "# Print the result\n",
    "print(output)  \n"
   ]
  },
  {
   "cell_type": "markdown",
   "id": "9db40115-d01e-4fd4-8757-c29197c02f5f",
   "metadata": {},
   "source": [
    "Explanation:-\n",
    "\n",
    "In this code, we use a set to remove duplicates from the input array. \n",
    "If the length of the set is not equal to the length of the original array, it means there are duplicates. \n",
    "The output will be True in this case."
   ]
  },
  {
   "cell_type": "code",
   "execution_count": 4,
   "id": "39374a36-f382-45a3-a310-5b4c78d2d3a7",
   "metadata": {},
   "outputs": [
    {
     "name": "stdout",
     "output_type": "stream",
     "text": [
      "[5, 6, 7, 1, 2, 3, 4]\n"
     ]
    }
   ],
   "source": [
    "# 2. Given an array and an integer k, rotate the array to the right by k steps.\n",
    "# arr = [1, 2, 3, 4, 5, 6, 7] k = 3\n",
    "# Output = [5, 6, 7, 1, 2, 3, 4]\n",
    "\n",
    "\n",
    "\n",
    "# Define the input array and the number of steps to rotate\n",
    "arr = [1, 2, 3, 4, 5, 6, 7]\n",
    "k = 3\n",
    "\n",
    "# Calculate the effective rotation steps by taking the modulus of k and the array length\n",
    "n = len(arr)\n",
    "k = k % n\n",
    "\n",
    "# Perform rotation by slicing the array and concatenating the rotated parts\n",
    "output = arr[-k:] + arr[:-k]\n",
    "\n",
    "# Print the rotated array\n",
    "print(output)  \n"
   ]
  },
  {
   "cell_type": "markdown",
   "id": "f239de2b-fe40-4316-80eb-1f19ce920eed",
   "metadata": {},
   "source": [
    "Explanation:-\n",
    "\n",
    "In this code, we calculate the effective rotation steps by taking the modulus of k and the length of the input array. \n",
    "Then, we use slicing to rotate the array to the right by k steps.\n",
    "\n"
   ]
  },
  {
   "cell_type": "code",
   "execution_count": 5,
   "id": "fdb2a38e-1195-448f-9e15-3fdab72d3c72",
   "metadata": {},
   "outputs": [
    {
     "name": "stdout",
     "output_type": "stream",
     "text": [
      "[12, 9, 7, 5, 4, 2]\n"
     ]
    }
   ],
   "source": [
    "# 3. Reverse the given array in-place, means without using any extra data structure.\n",
    "# arr = [2, 4, 5, 7, 9, 12]\n",
    "# Output = [12, 9, 7, 5, 4, 2]\n",
    "\n",
    "\n",
    "# Define the input array\n",
    "arr = [2, 4, 5, 7, 9, 12]\n",
    "\n",
    "# Reverse the array in-place using the reverse() method\n",
    "arr.reverse()\n",
    "\n",
    "# Print the reversed array\n",
    "print(arr)  \n"
   ]
  },
  {
   "cell_type": "markdown",
   "id": "3007cb33-71f3-44e6-ada6-1ae05196a48f",
   "metadata": {},
   "source": [
    "Explanation:-\n",
    "\n",
    "In this code, we reverse the input array in-place using the reverse() method, which modifies the original array. \n",
    "The reversed array is then printed as the output."
   ]
  },
  {
   "cell_type": "code",
   "execution_count": 6,
   "id": "7ea28bf2-c654-4d05-a20c-b0b7c001a71a",
   "metadata": {},
   "outputs": [
    {
     "name": "stdout",
     "output_type": "stream",
     "text": [
      "20\n"
     ]
    }
   ],
   "source": [
    "# 4. Given an array of integers, find the maximum element in an array\n",
    "# arr = [10, 5, 20, 8, 15]\n",
    "# Output = 20\n",
    "\n",
    "\n",
    "# Define the input array\n",
    "arr = [10, 5, 20, 8, 15]\n",
    "\n",
    "# Find the maximum element in the array using the max() function\n",
    "output = max(arr)\n",
    "\n",
    "# Print the maximum element\n",
    "print(output)  \n"
   ]
  },
  {
   "cell_type": "markdown",
   "id": "5fa834ba-bcde-482e-b1ef-3b9f46806045",
   "metadata": {},
   "source": [
    "Explanation:-\n",
    "\n",
    "In this code, we use the max() function to find the maximum element in the input array and then print the maximum element as the output."
   ]
  },
  {
   "cell_type": "code",
   "execution_count": 7,
   "id": "3f65e6db-e028-4eb5-b4d0-fba046edcdfd",
   "metadata": {},
   "outputs": [
    {
     "name": "stdout",
     "output_type": "stream",
     "text": [
      "[1, 2, 3, 4, 5]\n"
     ]
    }
   ],
   "source": [
    "#  5. Given a sorted array, remove the duplicate element without using any extra data structure.\n",
    "# arr = [1, 1, 2, 2, 2, 3, 3, 4, 4, 4, 5, 5]\n",
    "# Output = [1, 2, 3, 4, 5]\n",
    "\n",
    "\n",
    "\n",
    "# Define the input sorted array with duplicates\n",
    "arr = [1, 1, 2, 2, 2, 3, 3, 4, 4, 4, 5, 5]\n",
    "\n",
    "# Initialize an empty list to store unique elements\n",
    "unique_elements = []\n",
    "\n",
    "# Iterate through the input array and add unique elements to the unique_elements list\n",
    "for num in arr:\n",
    "    # Check if the unique_elements list is empty or the current number is different from the last element in the list\n",
    "    if not unique_elements or num != unique_elements[-1]:\n",
    "        # If the above condition is true, add the current number to the unique_elements list\n",
    "        unique_elements.append(num)\n",
    "\n",
    "# The unique_elements list now contains the elements with duplicates removed\n",
    "output = unique_elements\n",
    "\n",
    "# Print the array with duplicates removed\n",
    "print(output)  \n"
   ]
  },
  {
   "cell_type": "markdown",
   "id": "c4b98f0b-7bd3-4244-9876-215b00a0567c",
   "metadata": {},
   "source": [
    "Explanation:-\n",
    "\n",
    "In this code, we iterate through the input array, and if the current number is different from the last element added to the unique_elements list (or if the list is empty), we add the current number to the unique_elements list. This process ensures that only unique elements are included in the output list. Finally, the list with duplicates removed is printed as the output."
   ]
  },
  {
   "cell_type": "code",
   "execution_count": null,
   "id": "d71174fa-7506-4774-bbe6-8aeb6827f6cb",
   "metadata": {},
   "outputs": [],
   "source": []
  }
 ],
 "metadata": {
  "kernelspec": {
   "display_name": "Python 3 (ipykernel)",
   "language": "python",
   "name": "python3"
  },
  "language_info": {
   "codemirror_mode": {
    "name": "ipython",
    "version": 3
   },
   "file_extension": ".py",
   "mimetype": "text/x-python",
   "name": "python",
   "nbconvert_exporter": "python",
   "pygments_lexer": "ipython3",
   "version": "3.10.12"
  }
 },
 "nbformat": 4,
 "nbformat_minor": 5
}
